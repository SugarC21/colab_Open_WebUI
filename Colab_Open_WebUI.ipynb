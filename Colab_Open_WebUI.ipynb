{
  "cells": [
    {
      "cell_type": "markdown",
      "metadata": {
        "id": "view-in-github",
        "colab_type": "text"
      },
      "source": [
        "<a href=\"https://colab.research.google.com/github/SugarC21/colab_Open_WebUI/blob/main/Colab_Open_WebUI.ipynb\" target=\"_parent\"><img src=\"https://colab.research.google.com/assets/colab-badge.svg\" alt=\"Open In Colab\"/></a>"
      ]
    },
    {
      "cell_type": "markdown",
      "metadata": {
        "id": "vke0O2SC0ogE"
      },
      "source": [
        "# Create docker containers"
      ]
    },
    {
      "cell_type": "code",
      "execution_count": null,
      "metadata": {
        "colab": {
          "base_uri": "https://localhost:8080/"
        },
        "id": "FF_T9N5glXPc",
        "outputId": "634bd14b-6664-4ba0-d440-0deddd8faff5"
      },
      "outputs": [
        {
          "output_type": "stream",
          "name": "stdout",
          "text": [
            "Drive already mounted at /content/drive; to attempt to forcibly remount, call drive.mount(\"/content/drive\", force_remount=True).\n"
          ]
        }
      ],
      "source": [
        "from google.colab import drive\n",
        "drive.mount('/content/drive')"
      ]
    },
    {
      "cell_type": "code",
      "execution_count": null,
      "metadata": {
        "colab": {
          "base_uri": "https://localhost:8080/"
        },
        "id": "mHt7bbbrlZG9",
        "outputId": "019f1921-bdfe-4ed2-c1e8-b3ac82f5dacc"
      },
      "outputs": [
        {
          "output_type": "stream",
          "name": "stdout",
          "text": [
            "Hit:1 http://security.ubuntu.com/ubuntu jammy-security InRelease\n",
            "Hit:2 https://developer.download.nvidia.com/compute/cuda/repos/ubuntu2204/x86_64  InRelease\n",
            "Hit:3 https://cloud.r-project.org/bin/linux/ubuntu jammy-cran40/ InRelease\n",
            "Hit:4 https://r2u.stat.illinois.edu/ubuntu jammy InRelease\n",
            "Hit:5 http://archive.ubuntu.com/ubuntu jammy InRelease\n",
            "Get:6 http://archive.ubuntu.com/ubuntu jammy-updates InRelease [128 kB]\n",
            "Hit:7 https://ppa.launchpadcontent.net/deadsnakes/ppa/ubuntu jammy InRelease\n",
            "Hit:8 https://ppa.launchpadcontent.net/graphics-drivers/ppa/ubuntu jammy InRelease\n",
            "Hit:9 https://ppa.launchpadcontent.net/ubuntugis/ppa/ubuntu jammy InRelease\n",
            "Hit:10 http://archive.ubuntu.com/ubuntu jammy-backports InRelease\n",
            "Fetched 128 kB in 1s (121 kB/s)\n",
            "Reading package lists... Done\n",
            "W: Skipping acquire of configured file 'main/source/Sources' as repository 'https://r2u.stat.illinois.edu/ubuntu jammy InRelease' does not seem to provide it (sources.list entry misspelt?)\n",
            "Requirement already satisfied: udocker in /usr/local/lib/python3.11/dist-packages (1.3.17)\n"
          ]
        }
      ],
      "source": [
        "!apt-get update\n",
        "!pip install udocker\n",
        "!udocker --allow-root install"
      ]
    },
    {
      "cell_type": "code",
      "execution_count": null,
      "metadata": {
        "colab": {
          "base_uri": "https://localhost:8080/"
        },
        "id": "tEpZVPUDlbTJ",
        "outputId": "9af0e4bf-b59e-4971-b7cc-b97b9ac62c82"
      },
      "outputs": [
        {
          "output_type": "stream",
          "name": "stdout",
          "text": [
            "Info: downloading layer sha256:f1fd985cee59a6403508e3ba26367744eafad7b7383ba960d80872aae61661b6\n",
            "Info: downloading layer sha256:bbc15f5291c898f35e89f6efae11c0ecd49f6aa19789f36af4fd5fc61640c032\n",
            "Info: downloading layer sha256:434f39e9aa8ed6d632ba077401089f1011c5172058463ab81a32368f8e9bdf6c\n",
            "Info: downloading layer sha256:ce386310af0b2ad3776a94803422f4a2b9c0a9026480064295949aa309581ca4\n",
            "Info: downloading layer sha256:6414378b647780fee8fd903ddb9541d134a1947ce092d08bdeb23a54cb3684ac\n",
            "Info: downloading layer sha256:6e9bc29aefef49635c9516ef4cc76984e0df86ccd0949c7068bc24cf35f13ac0\n",
            "Info: downloading layer sha256:aa537a9b900a4b62adbe192d6da618447befe010f0768282a12ad301869b8cfb\n",
            "Info: downloading layer sha256:9399b5c1fdf7ebd849ea8abc923b8c7912773e9ee85a8754af92fcbecbb26f1f\n",
            "Info: downloading layer sha256:0841250aac49dddf4d420003f0c7cf94bab3aa8946acd0fd83573ec08c7e81eb\n",
            "Info: downloading layer sha256:c95a076c906ab4cc81e188afd20cee15596b8f11e460e184be2b54ae08bd48ee\n",
            "Info: downloading layer sha256:4bf92f02817d18b284330a6ebe01e2e3633d29ba8127ccf8dff984ddfaccd334\n",
            "Info: downloading layer sha256:d1f379cb927e60d7ca07aabeb244e5de6428259b4e306781ca2a25c0a2b76a1e\n",
            "Info: downloading layer sha256:e8c1b66294a3b60866721ac5a1769ea2735893893ff30274cdad6e551220e442\n",
            "Info: downloading layer sha256:4f4fb700ef54461cfa02571ae0db9a0dc1e0cdb5577484a6d75e68dc38e8acc1\n",
            "Info: downloading layer sha256:78bb4757e052a5a0e54789590a323932f447a09b266eb196fe361ae92ca8cd8c\n",
            "Info: downloading layer sha256:483e5276db9b65348df8a63e7b898c3cd3656ac4f5fa5d137f5b2ecf4442f880\n",
            "Info: downloading layer sha256:4f4fb700ef54461cfa02571ae0db9a0dc1e0cdb5577484a6d75e68dc38e8acc1\n",
            "Info: downloading layer sha256:24e4d406c0e49f82ea9adc2a37da63f169a80fb4ea3fc1a2e0c24693d2fe605d\n",
            "Info: downloading layer sha256:e670a00cb8f80a34cb2cadd7c6abe3a931d85735d4d571faaf47cfb0271c0505\n",
            "Info: downloading layer sha256:951ef04389205caf59aa51717bdd03e0765e97a42bd488de11ebe7b05db2b525\n",
            "Info: downloading layer sha256:76530857599c98bcede3fa001ef4d0cd23f48bf15e276c1cd845c8605264c819\n",
            "Info: downloading layer sha256:af302e5c37e9dc1dbe2eadc8f5059d82a914066b541b0d1a6daa91d0cc55057d\n",
            "Error: container name already exists\n",
            "Error: container name already exists\n"
          ]
        }
      ],
      "source": [
        "# Pull necessary container images\n",
        "!udocker --allow-root pull ollama/ollama\n",
        "!udocker --allow-root pull ghcr.io/open-webui/open-webui:main\n",
        "\n",
        "# Create containers from the images\n",
        "!udocker --allow-root create --name=ollama_container ollama/ollama\n",
        "!udocker --allow-root create --name=open_webui_container ghcr.io/open-webui/open-webui:main\n",
        "\n",
        "# Set up execution mode (P1 for best compatibility)\n",
        "#!udocker --allow-root setup --execmode=P1 ollama_container\n",
        "#!udocker --allow-root setup --execmode=P1 open_webui_container$\n"
      ]
    },
    {
      "cell_type": "code",
      "execution_count": null,
      "metadata": {
        "colab": {
          "base_uri": "https://localhost:8080/"
        },
        "id": "jnQc66vMxj2x",
        "outputId": "bf6abd79-93ff-4574-9b99-64c349a4c258"
      },
      "outputs": [
        {
          "output_type": "stream",
          "name": "stdout",
          "text": [
            "REPOSITORY\n",
            "ollama/ollama:latest    .\n",
            " /root/.udocker/repos/ollama/ollama/latest\n",
            "    /sha256:434f39e9aa8ed6d632ba077401089f1011c5172058463ab81a32368f8e9bdf6c (10 MB)\n",
            "    /sha256:bbc15f5291c898f35e89f6efae11c0ecd49f6aa19789f36af4fd5fc61640c032 (1489 MB)\n",
            "    /sha256:ce386310af0b2ad3776a94803422f4a2b9c0a9026480064295949aa309581ca4 (1 MB)\n",
            "    /sha256:f1fd985cee59a6403508e3ba26367744eafad7b7383ba960d80872aae61661b6 (0 MB)\n",
            "    /sha256:6414378b647780fee8fd903ddb9541d134a1947ce092d08bdeb23a54cb3684ac (28 MB)\n",
            "ghcr.io/open-webui/open-webui:main    .\n",
            " /root/.udocker/repos/ghcr.io/open-webui/open-webui/main\n",
            "    /sha256:4bf92f02817d18b284330a6ebe01e2e3633d29ba8127ccf8dff984ddfaccd334 (944 MB)\n",
            "    /sha256:6e9bc29aefef49635c9516ef4cc76984e0df86ccd0949c7068bc24cf35f13ac0 (0 MB)\n",
            "    /sha256:9399b5c1fdf7ebd849ea8abc923b8c7912773e9ee85a8754af92fcbecbb26f1f (0 MB)\n",
            "    /sha256:c95a076c906ab4cc81e188afd20cee15596b8f11e460e184be2b54ae08bd48ee (65 MB)\n",
            "    /sha256:0841250aac49dddf4d420003f0c7cf94bab3aa8946acd0fd83573ec08c7e81eb (0 MB)\n",
            "    /sha256:76530857599c98bcede3fa001ef4d0cd23f48bf15e276c1cd845c8605264c819 (3 MB)\n",
            "    /sha256:e670a00cb8f80a34cb2cadd7c6abe3a931d85735d4d571faaf47cfb0271c0505 (0 MB)\n",
            "    /sha256:4f4fb700ef54461cfa02571ae0db9a0dc1e0cdb5577484a6d75e68dc38e8acc1 (0 MB)\n",
            "    /sha256:af302e5c37e9dc1dbe2eadc8f5059d82a914066b541b0d1a6daa91d0cc55057d (26 MB)\n",
            "    /sha256:24e4d406c0e49f82ea9adc2a37da63f169a80fb4ea3fc1a2e0c24693d2fe605d (0 MB)\n",
            "    /sha256:483e5276db9b65348df8a63e7b898c3cd3656ac4f5fa5d137f5b2ecf4442f880 (0 MB)\n",
            "    /sha256:d1f379cb927e60d7ca07aabeb244e5de6428259b4e306781ca2a25c0a2b76a1e (0 MB)\n",
            "    /sha256:aa537a9b900a4b62adbe192d6da618447befe010f0768282a12ad301869b8cfb (37 MB)\n",
            "    /sha256:e8c1b66294a3b60866721ac5a1769ea2735893893ff30274cdad6e551220e442 (325 MB)\n",
            "    /sha256:951ef04389205caf59aa51717bdd03e0765e97a42bd488de11ebe7b05db2b525 (15 MB)\n",
            "    /sha256:78bb4757e052a5a0e54789590a323932f447a09b266eb196fe361ae92ca8cd8c (0 MB)\n"
          ]
        }
      ],
      "source": [
        "!mkdir -p /content/drive/MyDrive/udocker_exports  # Ensure export directory exists\n",
        "\n",
        "!udocker --allow-root images -l\n",
        "# Export ollama container\n",
        "!udocker --allow-root save -o /content/drive/MyDrive/udocker_exports/ollama_container.tar ollama/ollama:latest\n",
        "\n",
        "# Export open-webui container\n",
        "!udocker --allow-root save -o /content/drive/MyDrive/udocker_exports/open_webui_container.tar ghcr.io/open-webui/open-webui:main\n",
        "\n",
        "\n"
      ]
    },
    {
      "cell_type": "markdown",
      "metadata": {
        "id": "e_GbOLQy1WHg"
      },
      "source": [
        "# Start Open WebUI"
      ]
    },
    {
      "cell_type": "code",
      "execution_count": null,
      "metadata": {
        "id": "GZYbq7UbMzw3"
      },
      "outputs": [],
      "source": []
    },
    {
      "cell_type": "code",
      "execution_count": null,
      "metadata": {
        "id": "lAJf1k111XD6",
        "colab": {
          "base_uri": "https://localhost:8080/"
        },
        "outputId": "23654afc-da9a-44dd-b6cf-1b51620a4033"
      },
      "outputs": [
        {
          "output_type": "stream",
          "name": "stdout",
          "text": [
            "Mounted at /content/drive\n",
            "Get:1 https://cloud.r-project.org/bin/linux/ubuntu jammy-cran40/ InRelease [3,626 B]\n",
            "Get:2 https://developer.download.nvidia.com/compute/cuda/repos/ubuntu2204/x86_64  InRelease [1,581 B]\n",
            "Get:3 https://developer.download.nvidia.com/compute/cuda/repos/ubuntu2204/x86_64  Packages [1,306 kB]\n",
            "Get:4 http://security.ubuntu.com/ubuntu jammy-security InRelease [129 kB]\n",
            "Hit:5 http://archive.ubuntu.com/ubuntu jammy InRelease\n",
            "Hit:6 https://ppa.launchpadcontent.net/deadsnakes/ppa/ubuntu jammy InRelease\n",
            "Hit:7 https://ppa.launchpadcontent.net/graphics-drivers/ppa/ubuntu jammy InRelease\n",
            "Get:8 http://archive.ubuntu.com/ubuntu jammy-updates InRelease [128 kB]\n",
            "Get:9 https://r2u.stat.illinois.edu/ubuntu jammy InRelease [6,555 B]\n",
            "Hit:10 https://ppa.launchpadcontent.net/ubuntugis/ppa/ubuntu jammy InRelease\n",
            "Get:11 https://r2u.stat.illinois.edu/ubuntu jammy/main all Packages [8,640 kB]\n",
            "Get:12 http://security.ubuntu.com/ubuntu jammy-security/universe amd64 Packages [1,229 kB]\n",
            "Get:13 http://archive.ubuntu.com/ubuntu jammy-backports InRelease [127 kB]\n",
            "Get:14 http://archive.ubuntu.com/ubuntu jammy-updates/universe amd64 Packages [1,521 kB]\n",
            "Get:15 http://security.ubuntu.com/ubuntu jammy-security/main amd64 Packages [2,604 kB]\n",
            "Get:16 http://archive.ubuntu.com/ubuntu jammy-updates/main amd64 Packages [2,904 kB]\n",
            "Get:17 https://r2u.stat.illinois.edu/ubuntu jammy/main amd64 Packages [2,647 kB]\n",
            "Fetched 21.2 MB in 4s (5,092 kB/s)\n",
            "Reading package lists... Done\n",
            "W: Skipping acquire of configured file 'main/source/Sources' as repository 'https://r2u.stat.illinois.edu/ubuntu jammy InRelease' does not seem to provide it (sources.list entry misspelt?)\n",
            "Collecting udocker\n",
            "  Downloading udocker-1.3.17-py2.py3-none-any.whl.metadata (37 kB)\n",
            "Downloading udocker-1.3.17-py2.py3-none-any.whl (119 kB)\n",
            "\u001b[2K   \u001b[90m━━━━━━━━━━━━━━━━━━━━━━━━━━━━━━━━━━━━━━━━\u001b[0m \u001b[32m119.6/119.6 kB\u001b[0m \u001b[31m14.4 MB/s\u001b[0m eta \u001b[36m0:00:00\u001b[0m\n",
            "\u001b[?25hInstalling collected packages: udocker\n",
            "Successfully installed udocker-1.3.17\n",
            "Info: creating repo: /root/.udocker\n",
            "Info: udocker command line interface 1.3.17\n",
            "Info: searching for udockertools >= 1.2.11\n",
            "Info: installing udockertools 1.2.11\n",
            "Info: installation of udockertools successful\n",
            "Importing existing containers from Google Drive...\n",
            "835227cd-d3e4-312b-ac93-c6556d4fec4f\n",
            "b47b8c69-9471-32c0-8ce1-339ac8ee0191\n",
            "CONTAINER ID                         P M NAMES              IMAGE               \n",
            "835227cd-d3e4-312b-ac93-c6556d4fec4f . W ['open_webui_container'] open_webui_container:main\n",
            "b47b8c69-9471-32c0-8ce1-339ac8ee0191 . W ['ollama_container'] ollama_container:latest\n",
            "Info: Cont, has files from previous nvidia install\n",
            "Error: creating nvidia dir /root/.udocker/containers/ollama_container/ROOT//etc/vulkan/icd.d\n",
            "Warn: nvidia file in config not found /etc/vulkan/icd.d/nvidia_icd.json\n",
            "Error: creating nvidia dir /root/.udocker/containers/ollama_container/ROOT//etc/OpenCL/vendors\n",
            "Warn: nvidia file in config not found /etc/OpenCL/vendors/nvidia.icd\n",
            "Info: nvidia mode set\n",
            "Error: nvidia installation already exists, use --force to overwrite\n",
            "Starting Ollama container...\n",
            "Starting Open-WebUI container...\n"
          ]
        },
        {
          "output_type": "execute_result",
          "data": {
            "text/plain": [
              "CompletedProcess(args=['udocker', '--allow-root', 'ps'], returncode=0)"
            ]
          },
          "metadata": {},
          "execution_count": 1
        }
      ],
      "source": [
        "import subprocess\n",
        "from google.colab import drive\n",
        "\n",
        "# Mount Google Drive\n",
        "drive.mount('/content/drive')\n",
        "\n",
        "\n",
        "\n",
        "# Install udocker if not installed\n",
        "!apt-get update\n",
        "!pip install udocker\n",
        "!udocker --allow-root install\n",
        "\n",
        "# Import necessary modules\n",
        "import os\n",
        "\n",
        "# Ensure export directory exists\n",
        "os.makedirs(\"/content/drive/MyDrive/udocker_exports\", exist_ok=True)\n",
        "\n",
        "# Import containers if they exist, otherwise pull and create new ones\n",
        "if os.path.exists(\"/content/drive/MyDrive/udocker_exports/ollama_container.tar\") and os.path.exists(\"/content/drive/MyDrive/udocker_exports/open_webui_container.tar\"):\n",
        "    print(\"Importing existing containers from Google Drive...\")\n",
        "    subprocess.run([\"udocker\", \"--allow-root\", \"load\", \"-i\", \"/content/drive/MyDrive/udocker_exports/ollama_container.tar\", \"ollama_container\"])\n",
        "    subprocess.run([\"udocker\", \"--allow-root\", \"load\", \"-i\", \"/content/drive/MyDrive/udocker_exports/open_webui_container.tar\", \"open_webui_container\"])\n",
        "    !udocker --allow-root create --name=open_webui_container open_webui_container:main\n",
        "    !udocker --allow-root create --name=ollama_container ollama_container:latest\n",
        "else:\n",
        "    print(\"No saved containers found. Pulling images and creating containers...\")\n",
        "    subprocess.run([\"udocker\", \"--allow-root\", \"pull\", \"ollama/ollama\"])\n",
        "    subprocess.run([\"udocker\", \"--allow-root\", \"pull\", \"ghcr.io/open-webui/open-webui:main\"])\n",
        "\n",
        "    subprocess.run([\"udocker\", \"--allow-root\", \"create\", \"--name=ollama_container\", \"ollama/ollama\"])\n",
        "    subprocess.run([\"udocker\", \"--allow-root\", \"create\", \"--name=open_webui_container\", \"ghcr.io/open-webui/open-webui:main\"])\n",
        "\n",
        "    # Export containers for future use\n",
        "    print(\"Saving containers to Google Drive for future sessions...\")\n",
        "    subprocess.run([\"udocker\", \"--allow-root\", \"save\", \"-o\", \"/content/drive/MyDrive/udocker_exports/ollama_container\", \"ollama_container\"])\n",
        "    subprocess.run([\"udocker\", \"--allow-root\", \"save\", \"-o\", \"/content/drive/MyDrive/udocker_exports/open_webui_container\", \"open_webui_container\"])\n",
        "\n",
        "!udocker --allow-root ps\n",
        "\n",
        "# Set execution mode\n",
        "#subprocess.run([\"udocker\", \"--allow-root\", \"setup\", \"--execmode=P1\", \"ollama_container\"])\n",
        "#subprocess.run([\"udocker\", \"--allow-root\", \"setup\", \"--execmode=P1\", \"open_webui_container\"])\n",
        "!udocker --allow-root setup --nvidia  ollama_container\n",
        "!udocker --allow-root setup --nvidia  open_webui_container\n",
        "\n",
        "# Start the containers as subprocesses and redirect logs to files\n",
        "\n",
        "# Define log file paths\n",
        "import time\n",
        "\n",
        "OLLAMA_LOG = \"/content/ollama.log\"\n",
        "WEBUI_LOG = \"/content/webui.log\"\n",
        "NGROK_LOG = \"/content/ngrok.log\"\n",
        "\n",
        "def stream_logs(log_file):\n",
        "    with open(log_file, \"r\") as f:\n",
        "        f.seek(0, os.SEEK_END)  # Move to the end of the file\n",
        "        while True:\n",
        "            line = f.readline()\n",
        "            if line:\n",
        "                print(f\"{log_file}: {line}\", end=\"\")\n",
        "            time.sleep(0.1)\n",
        "\n",
        "\n",
        "#!udocker --allow-root run --env=WEBUI_AUTH=False --publish=3000:8080 open_webui_container\n",
        "print(\"Starting Ollama container...\")\n",
        "ollama_process = subprocess.Popen([\n",
        "    \"udocker\", \"--allow-root\", \"run\",\n",
        "    \"--publish=11434:11434\",\n",
        "    \"ollama_container\"\n",
        "], stdout=open(OLLAMA_LOG, \"w\"), stderr=subprocess.STDOUT)\n",
        "\n",
        "print(\"Starting Open-WebUI container...\")\n",
        "webui_process = subprocess.Popen([\n",
        "    \"udocker\", \"--allow-root\", \"run\",\n",
        "    \"--env=WEBUI_AUTH=False\",\n",
        "    \"--publish=3000:8080\",\n",
        "    \"open_webui_container\"\n",
        "], stdout=open(WEBUI_LOG, \"w\"), stderr=subprocess.STDOUT)\n",
        "\n",
        "# Check running containers\n",
        "subprocess.run([\"udocker\", \"--allow-root\", \"ps\"])\n"
      ]
    },
    {
      "cell_type": "code",
      "execution_count": null,
      "metadata": {
        "id": "u_QhuSNcNkyG",
        "colab": {
          "base_uri": "https://localhost:8080/"
        },
        "outputId": "463a9148-ce88-4384-c6bd-c54b14113bb7"
      },
      "outputs": [
        {
          "output_type": "stream",
          "name": "stdout",
          "text": [
            "REPOSITORY\n",
            "ollama_container:latest    .\n",
            " /root/.udocker/repos/ollama_container/latest\n",
            "    /434f39e9aa8ed6d632ba077401089f1011c5172058463ab81a32368f8e9bdf6c.json (0 MB)\n",
            "    /container.json (0 MB)\n",
            "    /6414378b647780fee8fd903ddb9541d134a1947ce092d08bdeb23a54cb3684ac.json (0 MB)\n",
            "    /bbc15f5291c898f35e89f6efae11c0ecd49f6aa19789f36af4fd5fc61640c032.layer (1489 MB)\n",
            "    /6414378b647780fee8fd903ddb9541d134a1947ce092d08bdeb23a54cb3684ac.layer (28 MB)\n",
            "    /bbc15f5291c898f35e89f6efae11c0ecd49f6aa19789f36af4fd5fc61640c032.json (0 MB)\n",
            "    /ce386310af0b2ad3776a94803422f4a2b9c0a9026480064295949aa309581ca4.layer (1 MB)\n",
            "    /ce386310af0b2ad3776a94803422f4a2b9c0a9026480064295949aa309581ca4.json (0 MB)\n",
            "    /434f39e9aa8ed6d632ba077401089f1011c5172058463ab81a32368f8e9bdf6c.layer (10 MB)\n",
            "open_webui_container:main    .\n",
            " /root/.udocker/repos/open_webui_container/main\n",
            "    /d1f379cb927e60d7ca07aabeb244e5de6428259b4e306781ca2a25c0a2b76a1e.json (0 MB)\n",
            "    /4bf92f02817d18b284330a6ebe01e2e3633d29ba8127ccf8dff984ddfaccd334.json (0 MB)\n",
            "    /483e5276db9b65348df8a63e7b898c3cd3656ac4f5fa5d137f5b2ecf4442f880.layer (0 MB)\n",
            "    /4f4fb700ef54461cfa02571ae0db9a0dc1e0cdb5577484a6d75e68dc38e8acc1.layer (0 MB)\n",
            "    /4f4fb700ef54461cfa02571ae0db9a0dc1e0cdb5577484a6d75e68dc38e8acc1.json (0 MB)\n",
            "    /24e4d406c0e49f82ea9adc2a37da63f169a80fb4ea3fc1a2e0c24693d2fe605d.layer (0 MB)\n",
            "    /e670a00cb8f80a34cb2cadd7c6abe3a931d85735d4d571faaf47cfb0271c0505.json (0 MB)\n",
            "    /951ef04389205caf59aa51717bdd03e0765e97a42bd488de11ebe7b05db2b525.json (0 MB)\n",
            "    /0841250aac49dddf4d420003f0c7cf94bab3aa8946acd0fd83573ec08c7e81eb.layer (0 MB)\n",
            "    /9399b5c1fdf7ebd849ea8abc923b8c7912773e9ee85a8754af92fcbecbb26f1f.json (0 MB)\n",
            "    /container.json (0 MB)\n",
            "    /e8c1b66294a3b60866721ac5a1769ea2735893893ff30274cdad6e551220e442.json (0 MB)\n",
            "    /af302e5c37e9dc1dbe2eadc8f5059d82a914066b541b0d1a6daa91d0cc55057d.layer (26 MB)\n",
            "    /e670a00cb8f80a34cb2cadd7c6abe3a931d85735d4d571faaf47cfb0271c0505.layer (0 MB)\n",
            "    /d1f379cb927e60d7ca07aabeb244e5de6428259b4e306781ca2a25c0a2b76a1e.layer (0 MB)\n",
            "    /9399b5c1fdf7ebd849ea8abc923b8c7912773e9ee85a8754af92fcbecbb26f1f.layer (0 MB)\n",
            "    /c95a076c906ab4cc81e188afd20cee15596b8f11e460e184be2b54ae08bd48ee.layer (65 MB)\n",
            "    /4bf92f02817d18b284330a6ebe01e2e3633d29ba8127ccf8dff984ddfaccd334.layer (944 MB)\n",
            "    /951ef04389205caf59aa51717bdd03e0765e97a42bd488de11ebe7b05db2b525.layer (15 MB)\n",
            "    /76530857599c98bcede3fa001ef4d0cd23f48bf15e276c1cd845c8605264c819.json (0 MB)\n",
            "    /af302e5c37e9dc1dbe2eadc8f5059d82a914066b541b0d1a6daa91d0cc55057d.json (0 MB)\n",
            "    /24e4d406c0e49f82ea9adc2a37da63f169a80fb4ea3fc1a2e0c24693d2fe605d.json (0 MB)\n",
            "    /78bb4757e052a5a0e54789590a323932f447a09b266eb196fe361ae92ca8cd8c.json (0 MB)\n",
            "    /76530857599c98bcede3fa001ef4d0cd23f48bf15e276c1cd845c8605264c819.layer (3 MB)\n",
            "    /78bb4757e052a5a0e54789590a323932f447a09b266eb196fe361ae92ca8cd8c.layer (0 MB)\n",
            "    /aa537a9b900a4b62adbe192d6da618447befe010f0768282a12ad301869b8cfb.json (0 MB)\n",
            "    /c95a076c906ab4cc81e188afd20cee15596b8f11e460e184be2b54ae08bd48ee.json (0 MB)\n",
            "    /483e5276db9b65348df8a63e7b898c3cd3656ac4f5fa5d137f5b2ecf4442f880.json (0 MB)\n",
            "    /0841250aac49dddf4d420003f0c7cf94bab3aa8946acd0fd83573ec08c7e81eb.json (0 MB)\n",
            "    /e8c1b66294a3b60866721ac5a1769ea2735893893ff30274cdad6e551220e442.layer (325 MB)\n",
            "    /aa537a9b900a4b62adbe192d6da618447befe010f0768282a12ad301869b8cfb.layer (37 MB)\n",
            "*   Trying 0.0.0.0:11434...\n",
            "* connect to 0.0.0.0 port 11434 failed: Connection refused\n",
            "* Failed to connect to 0.0.0.0 port 11434 after 0 ms: Connection refused\n",
            "* Closing connection 0\n",
            "curl: (7) Failed to connect to 0.0.0.0 port 11434 after 0 ms: Connection refused\n"
          ]
        }
      ],
      "source": [
        "!udocker --allow-root images -l\n",
        "# !udocker --allow-root rm 981b744d-b398-3e44-a7bc-6c1cb79d9732\n",
        "\n",
        "!curl -v http://0.0.0.0:11434"
      ]
    },
    {
      "cell_type": "code",
      "execution_count": null,
      "metadata": {
        "id": "o8Szc8Uj2f6x",
        "colab": {
          "base_uri": "https://localhost:8080/"
        },
        "outputId": "f574abb5-125a-49e1-dd8d-4e1691df04ce"
      },
      "outputs": [
        {
          "output_type": "stream",
          "name": "stdout",
          "text": [
            "Collecting pyngrok\n",
            "  Downloading pyngrok-7.2.3-py3-none-any.whl.metadata (8.7 kB)\n",
            "Requirement already satisfied: PyYAML>=5.1 in /usr/local/lib/python3.11/dist-packages (from pyngrok) (6.0.2)\n",
            "Downloading pyngrok-7.2.3-py3-none-any.whl (23 kB)\n",
            "Installing collected packages: pyngrok\n",
            "Successfully installed pyngrok-7.2.3\n",
            "\n",
            "Open WebUI Public URL: https://92b7-35-240-240-79.ngrok-free.app\n",
            "\n",
            "CONTAINER ID                         P M NAMES              IMAGE               \n",
            "835227cd-d3e4-312b-ac93-c6556d4fec4f . W ['open_webui_container'] open_webui_container:main\n",
            "b47b8c69-9471-32c0-8ce1-339ac8ee0191 . W ['ollama_container'] ollama_container:latest\n"
          ]
        }
      ],
      "source": [
        "!pip install pyngrok\n",
        "from pyngrok import ngrok\n",
        "import time\n",
        "\n",
        "\n",
        "\n",
        "# Set your ngrok auth token here\n",
        "from google.colab import userdata\n",
        "ngrok_auth_token = userdata.get('ngrok_auth_token')\n",
        "ngrok_auth_token = ngrok_auth_token\n",
        "\n",
        "# Initialize ngrok with auth token\n",
        "ngrok_process = subprocess.Popen(\n",
        "    [\n",
        "        'ngrok', 'http', '3000',\n",
        "        '--authtoken', ngrok_auth_token,\n",
        "        '--log', 'stdout'  # Direct logs to standard output\n",
        "    ], stdout=open(NGROK_LOG, \"w\"), stderr=subprocess.STDOUT\n",
        ")\n",
        "\n",
        "\n",
        "# Wait for tunnels to establish\n",
        "time.sleep(15)\n",
        "\n",
        "# Get public URL using ngrok API\n",
        "try:\n",
        "    tunnels = subprocess.check_output(['curl', '-s', 'http://localhost:4040/api/tunnels'])\n",
        "    public_url = str(tunnels).split('public_url\":\"')[1].split('\"')[0]\n",
        "    print(f\"\\nOpen WebUI Public URL: {public_url.replace('http://', 'https://')}\\n\")\n",
        "except Exception as e:\n",
        "    print(f\"Error getting ngrok URL: {str(e)}\")\n",
        "\n",
        "\n",
        "import threading\n",
        "\n",
        "#threading.Thread(target=stream_logs, args=(OLLAMA_LOG,), daemon=True).start()\n",
        "#threading.Thread(target=stream_logs, args=(WEBUI_LOG,), daemon=True).start()\n",
        "##threading.Thread(target=stream_logs, args=(NGROK_LOG,), daemon=True).start()\n",
        "\n",
        "# Show running containers\n",
        "!udocker --allow-root ps\n",
        "\n",
        "\n"
      ]
    },
    {
      "cell_type": "code",
      "execution_count": null,
      "metadata": {
        "id": "2TvJM54vKW-2"
      },
      "outputs": [],
      "source": [
        "# Export ollama container\n",
        "!udocker --allow-root save -o /content/drive/MyDrive/udocker_exports/ollama_container.tar ollama_container\n",
        "\n",
        "# Export open-webui container!\n",
        "!udocker --allow-root save -o /content/drive/MyDrive/udocker_exports/open_webui_container.tar open_webui_container\n"
      ]
    },
    {
      "cell_type": "code",
      "execution_count": null,
      "metadata": {
        "id": "uSHOURA1MAhp"
      },
      "outputs": [],
      "source": []
    }
  ],
  "metadata": {
    "colab": {
      "provenance": [],
      "machine_shape": "hm",
      "gpuType": "A100",
      "authorship_tag": "ABX9TyNG1GrHfEgYK6N7qh1Jo48B",
      "include_colab_link": true
    },
    "kernelspec": {
      "display_name": "Python 3",
      "name": "python3"
    },
    "language_info": {
      "name": "python"
    },
    "accelerator": "GPU"
  },
  "nbformat": 4,
  "nbformat_minor": 0
}