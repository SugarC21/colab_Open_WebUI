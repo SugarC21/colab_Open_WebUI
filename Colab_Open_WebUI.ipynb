{
  "nbformat": 4,
  "nbformat_minor": 0,
  "metadata": {
    "colab": {
      "provenance": [],
      "gpuType": "T4",
      "include_colab_link": true
    },
    "kernelspec": {
      "name": "python3",
      "display_name": "Python 3"
    },
    "language_info": {
      "name": "python"
    },
    "accelerator": "GPU"
  },
  "cells": [
    {
      "cell_type": "markdown",
      "metadata": {
        "id": "view-in-github",
        "colab_type": "text"
      },
      "source": [
        "<a href=\"https://colab.research.google.com/github/SugarC21/colab_Open_WebUI/blob/main/Colab_Open_WebUI.ipynb\" target=\"_parent\"><img src=\"https://colab.research.google.com/assets/colab-badge.svg\" alt=\"Open In Colab\"/></a>"
      ]
    },
    {
      "cell_type": "markdown",
      "source": [
        "# Open WebUI\n",
        "All data will persist in Google Drive under 'open_WebUI' folder"
      ],
      "metadata": {
        "id": "9AAJzmDMhE6C"
      }
    },
    {
      "cell_type": "code",
      "source": [
        "# Mount Google Drive and create folder structure\n",
        "from google.colab import drive\n",
        "drive.mount('/content/drive')\n",
        "\n",
        "# Create main directory and subdirectories\n",
        "!mkdir -p '/content/drive/MyDrive/open_WebUI/ollama_models'\n",
        "!mkdir -p '/content/drive/MyDrive/open_WebUI/venv'\n",
        "!mkdir -p '/content/drive/MyDrive/open_WebUI/config'\n",
        "\n",
        "!sudo chmod -R 777 '/content/drive/MyDrive/open_WebUI/ollama_models'  # Full access\n",
        "!ls -ld '/content/drive/MyDrive/open_WebUI/ollama_models'  # Verify permissions"
      ],
      "metadata": {
        "id": "drive-mount"
      },
      "execution_count": null,
      "outputs": []
    },
    {
      "cell_type": "markdown",
      "source": [
        "## Dependencies\n",
        "Install Ollama with persistent storage:"
      ],
      "metadata": {
        "id": "cEdfep4Jhh6P"
      }
    },
    {
      "cell_type": "code",
      "source": [
        "!sudo apt-get update\n",
        "!sudo apt-get install -y python3.11 python3.11-venv python3.11-dev lshw\n",
        "\n",
        "# Create/update virtual environment in Drive\n",
        "!python3.11 -m venv '/content/drive/MyDrive/open_WebUI/venv' --upgrade-deps\n",
        "\n",
        "\n",
        "!curl -fsSL https://ollama.com/install.sh | sh\n",
        "\n",
        "# Set custom model storage path\n",
        "%env OLLAMA_MODELS=/content/drive/MyDrive/open_WebUI/ollama_models"
      ],
      "metadata": {
        "id": "75u7Td2HV957"
      },
      "execution_count": null,
      "outputs": []
    },
    {
      "cell_type": "markdown",
      "source": [
        "## Install Open WebUI\n",
        "Persistent installation in dedicated folder:"
      ],
      "metadata": {
        "id": "AksDFR8miRaL"
      }
    },
    {
      "cell_type": "code",
      "execution_count": null,
      "metadata": {
        "id": "JpgA4UIQnGA_"
      },
      "outputs": [],
      "source": [
        "# Install Open WebUI\n",
        "!'/content/drive/MyDrive/open_WebUI/venv/bin/python' -m pip install --upgrade pip\n",
        "!'/content/drive/MyDrive/open_WebUI/venv/bin/pip' install open-webui"
      ]
    },
    {
      "cell_type": "markdown",
      "source": [
        "## Server Configuration\n",
        "Store startup script in Drive:"
      ],
      "metadata": {
        "id": "o3Q5RiLl668K"
      }
    },
    {
      "cell_type": "code",
      "source": [
        "with open('/content/drive/MyDrive/open_WebUI/start_servers.py', 'w') as f:\n",
        "    f.write('''\n",
        "import subprocess\n",
        "import threading\n",
        "import time\n",
        "\n",
        "def start_ollama():\n",
        "    subprocess.run(['ollama', 'serve'])\n",
        "\n",
        "def start_open_webui():\n",
        "    subprocess.run([\n",
        "        '/content/drive/MyDrive/open_WebUI/venv/bin/open-webui',\n",
        "        'serve',\n",
        "        '--port', '8081'\n",
        "    ])\n",
        "\n",
        "threading.Thread(target=start_ollama, daemon=True).start()\n",
        "time.sleep(5)\n",
        "threading.Thread(target=start_open_webui, daemon=True).start()\n",
        "while True: time.sleep(1)\n",
        "''')"
      ],
      "metadata": {
        "id": "modified-script"
      },
      "execution_count": null,
      "outputs": []
    },
    {
      "cell_type": "markdown",
      "source": [
        "## Start Servers\n",
        "Public URL generation:"
      ],
      "metadata": {
        "id": "server-start"
      }
    },
    {
      "cell_type": "code",
      "source": [
        "# Start servers and expose\n",
        "#!'/content/drive/MyDrive/open_WebUI/venv/bin/python' '/content/drive/MyDrive/open_WebUI/start_servers.py' & sleep 20; echo | ssh -o StrictHostKeyChecking=no -p 443 -R0:localhost:8081 qr@a.pinggy.io\n",
        "\n",
        "# Install required package\n",
        "!pip install pyngrok -q\n",
        "\n",
        "import subprocess\n",
        "import time\n",
        "from pyngrok import ngrok\n",
        "\n",
        "# Set your ngrok auth token here\n",
        "from google.colab import userdata\n",
        "ngrok_auth_token = userdata.get('ngrok_auth_token')\n",
        "ngrok_auth_token = ngrok_auth_token\n",
        "\n",
        "# Start servers using subprocess\n",
        "webui_process = subprocess.Popen([\n",
        "    '/content/drive/MyDrive/open_WebUI/venv/bin/python',\n",
        "    '/content/drive/MyDrive/open_WebUI/start_servers.py'\n",
        "])\n",
        "\n",
        "# Initialize ngrok with auth token\n",
        "ngrok_process = subprocess.Popen(\n",
        "    [\n",
        "        'ngrok', 'http', '8081',\n",
        "        '--authtoken', ngrok_auth_token,\n",
        "        '--log', 'stdout'  # Direct logs to standard output\n",
        "    ],\n",
        "    stdout=subprocess.PIPE,  # Capture output\n",
        "    stderr=subprocess.STDOUT,  # Merge stderr with stdout\n",
        "    universal_newlines=True  # Handle text output\n",
        ")\n",
        "\n",
        "# Wait for tunnels to establish\n",
        "time.sleep(25)\n",
        "\n",
        "# Get public URL using ngrok API\n",
        "try:\n",
        "    tunnels = subprocess.check_output(['curl', '-s', 'http://localhost:4040/api/tunnels'])\n",
        "    public_url = str(tunnels).split('public_url\":\"')[1].split('\"')[0]\n",
        "    print(f\"\\nOpen WebUI Public URL: {public_url.replace('http://', 'https://')}\\n\")\n",
        "except Exception as e:\n",
        "    print(f\"Error getting ngrok URL: {str(e)}\")\n",
        "\n",
        "# Keep the cell alive\n",
        "import threading\n",
        "def print_ngrok_output():\n",
        "    for line in iter(ngrok_process.stdout.readline, ''):\n",
        "        print(line, end='')\n",
        "\n",
        "threading.Thread(target=print_ngrok_output, daemon=True).start()\n",
        "\n",
        "# Test write access\n",
        "!touch '/content/drive/MyDrive/open_WebUI/ollama_models/permission_test'\n",
        "!ls '/content/drive/MyDrive/open_WebUI/ollama_models'  # Should show test file\n",
        "!rm '/content/drive/MyDrive/open_WebUI/ollama_models/permission_test'"
      ],
      "metadata": {
        "id": "0MQ4Ub3X7BcR"
      },
      "execution_count": null,
      "outputs": []
    }
  ]
}